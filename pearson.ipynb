{
 "cells": [
  {
   "cell_type": "markdown",
   "metadata": {},
   "source": [
    "### 任务流程\n",
    "\n",
    "1. 获得共同项目数据集(所有用户的，且独立到程序外的)（可选方案之一）\n",
    "1. 先取得初始数据\n",
    "\n",
    "3. 获得随机用户和随机评分项目\n",
    "4. 修改目标项目评分\n",
    "6. 计算平均评分\n",
    "5. 获得共同项目数据集  (只获得目标用户相关即可)\n",
    "7. 计算pearson系数   （只计算目标用户相关即可）\n",
    "8. 找出近邻（需要一个最低相关度，或者一个topK）\n",
    "9. 产生预测\n",
    "12. 恢复数据\n",
    "10. 重复3~8步，并记录数据值\n",
    "11. 对照原始数据，计算评分\n",
    "\n",
    "`存在问题：若随机获得的两用户相似度很低，又该如何`"
   ]
  },
  {
   "cell_type": "code",
   "execution_count": 1,
   "metadata": {},
   "outputs": [],
   "source": [
    "import pandas as pd\n",
    "import matplotlib.pyplot as plt\n",
    "import numpy as np\n",
    "import math\n",
    "import random"
   ]
  },
  {
   "cell_type": "code",
   "execution_count": 2,
   "metadata": {},
   "outputs": [
    {
     "data": {
      "text/html": [
       "<div>\n",
       "<style scoped>\n",
       "    .dataframe tbody tr th:only-of-type {\n",
       "        vertical-align: middle;\n",
       "    }\n",
       "\n",
       "    .dataframe tbody tr th {\n",
       "        vertical-align: top;\n",
       "    }\n",
       "\n",
       "    .dataframe thead th {\n",
       "        text-align: right;\n",
       "    }\n",
       "</style>\n",
       "<table border=\"1\" class=\"dataframe\">\n",
       "  <thead>\n",
       "    <tr style=\"text-align: right;\">\n",
       "      <th></th>\n",
       "      <th>userId</th>\n",
       "      <th>movieId</th>\n",
       "      <th>rating</th>\n",
       "    </tr>\n",
       "  </thead>\n",
       "  <tbody>\n",
       "    <tr>\n",
       "      <th>0</th>\n",
       "      <td>1</td>\n",
       "      <td>1</td>\n",
       "      <td>4.0</td>\n",
       "    </tr>\n",
       "    <tr>\n",
       "      <th>1</th>\n",
       "      <td>1</td>\n",
       "      <td>3</td>\n",
       "      <td>4.0</td>\n",
       "    </tr>\n",
       "    <tr>\n",
       "      <th>2</th>\n",
       "      <td>1</td>\n",
       "      <td>6</td>\n",
       "      <td>4.0</td>\n",
       "    </tr>\n",
       "    <tr>\n",
       "      <th>3</th>\n",
       "      <td>1</td>\n",
       "      <td>47</td>\n",
       "      <td>5.0</td>\n",
       "    </tr>\n",
       "    <tr>\n",
       "      <th>4</th>\n",
       "      <td>1</td>\n",
       "      <td>50</td>\n",
       "      <td>5.0</td>\n",
       "    </tr>\n",
       "  </tbody>\n",
       "</table>\n",
       "</div>"
      ],
      "text/plain": [
       "   userId  movieId  rating\n",
       "0       1        1     4.0\n",
       "1       1        3     4.0\n",
       "2       1        6     4.0\n",
       "3       1       47     5.0\n",
       "4       1       50     5.0"
      ]
     },
     "execution_count": 2,
     "metadata": {},
     "output_type": "execute_result"
    }
   ],
   "source": [
    "data = pd.read_csv('./movie_lens/ratings.csv')\n",
    "data = data.drop('timestamp',axis=1)\n",
    "data.head()"
   ]
  },
  {
   "cell_type": "code",
   "execution_count": 3,
   "metadata": {},
   "outputs": [
    {
     "name": "stdout",
     "output_type": "stream",
     "text": [
      "<class 'pandas.core.frame.DataFrame'>\n",
      "RangeIndex: 100836 entries, 0 to 100835\n",
      "Data columns (total 3 columns):\n",
      "userId     100836 non-null int64\n",
      "movieId    100836 non-null int64\n",
      "rating     100836 non-null float64\n",
      "dtypes: float64(1), int64(2)\n",
      "memory usage: 2.3 MB\n"
     ]
    }
   ],
   "source": [
    "data.info()"
   ]
  },
  {
   "cell_type": "markdown",
   "metadata": {},
   "source": [
    "#### 计算用户的平均评分"
   ]
  },
  {
   "cell_type": "code",
   "execution_count": 117,
   "metadata": {},
   "outputs": [],
   "source": [
    "def average():\n",
    "    rate_average = round( data.groupby(['userId'])['rating'].sum() / data.groupby(['userId'])['rating'].count() , 4)\n",
    "    return rate_average"
   ]
  },
  {
   "cell_type": "code",
   "execution_count": 119,
   "metadata": {},
   "outputs": [
    {
     "data": {
      "text/plain": [
       "userId\n",
       "1    4.3664\n",
       "2    3.9483\n",
       "3    2.4359\n",
       "4    3.5556\n",
       "5    3.6364\n",
       "Name: rating, dtype: float64"
      ]
     },
     "execution_count": 119,
     "metadata": {},
     "output_type": "execute_result"
    }
   ],
   "source": [
    "rate_average = average()\n",
    "rate_average.head()"
   ]
  },
  {
   "cell_type": "markdown",
   "metadata": {},
   "source": [
    "#### 计算并获得共同评分项目数据集\n",
    "``` userId_1 userId_2 movieIds\n",
    "```\n",
    "\n",
    "`抽出所有的共同评分的数据信息`"
   ]
  },
  {
   "cell_type": "code",
   "execution_count": 184,
   "metadata": {},
   "outputs": [],
   "source": [
    "def common_file(user_number):\n",
    "    f = open( 'common.txt', 'w', encoding='utf8')\n",
    "    f.write('userId_1,userId_2,movieIds\\n')\n",
    "    for j in range(user_number):     #这里的迭代体 5 是用户数，假定用户1为比较用户，用户2为被比较用户，此处显然为用户1的个数\n",
    "        if j ==0 :continue\n",
    "        for i in range(user_number):    #这里的迭代体 11 是用户2的个数\n",
    "            if i == 0 : continue\n",
    "            if j == i : continue\n",
    "                #获得电影编号\n",
    "            movie_1 = data[data['userId']==j]\n",
    "            movie_2 = data[data['userId']==i]\n",
    "            f.write( str(j) +','+str(i)+',')\n",
    "            for m_id in movie_1['movieId']:                   #遍历用户1的项目，每个都拿去在用户2的项目里检索\n",
    "                judge = movie_2[movie_2['movieId'] == m_id]    #为获得共有电影编号参数 number 做准备\n",
    "                number = judge['movieId']\n",
    "                if judge.empty: pass                          #检查是否有共同项目，无则pass，有则写入文件\n",
    "                else:  \n",
    "                    f.write(str(int(number)) + ' ')\n",
    "            f.write('\\n')\n",
    "    f.close()"
   ]
  },
  {
   "cell_type": "code",
   "execution_count": null,
   "metadata": {},
   "outputs": [],
   "source": [
    "common_file(101)"
   ]
  },
  {
   "cell_type": "markdown",
   "metadata": {},
   "source": [
    "#### 获得与目标用户有关的共同项目集"
   ]
  },
  {
   "cell_type": "code",
   "execution_count": 157,
   "metadata": {},
   "outputs": [],
   "source": [
    "#制作公共影片文件  common.txt\n",
    "def common_file(common_name,user_1,user_number):\n",
    "    #获得公共影片信息\n",
    "    #movie_1就是用户j评过分的电影,同理movie_2就是用户i评过分的电影\n",
    "    f = open( common_name, 'w', encoding='utf8')\n",
    "    f.write('userId_1,userId_2,movieIds\\n')\n",
    "    movie_1 = data[data['userId']==user_1]\n",
    "    for user_2 in range(user_number):     #这里的迭代体 5 是用户数，假定用户1为比较用户，用户2为被比较用户，此处显然为用户1的个数\n",
    "        if user_2 ==0 :continue\n",
    "        if user_2 == user_1 : continue\n",
    "                #获得电影编号\n",
    "        movie_2 = data[data['userId']==user_2]\n",
    "        f.write( str(user_1) +','+str(user_2)+',')\n",
    "        for m_id in movie_1['movieId']:                   #遍历用户1的项目，每个都拿去在用户2的项目里检索\n",
    "            judge = movie_2[movie_2['movieId'] == m_id]    #为获得共有电影编号参数 number 做准备\n",
    "            Id = judge['movieId']\n",
    "            if judge.empty: pass                          #检查是否有共同项目，无则pass，有则写入文件\n",
    "            else:  \n",
    "                f.write(str(int(Id)) + ' ')\n",
    "        f.write('\\n')\n",
    "    f.close()"
   ]
  },
  {
   "cell_type": "code",
   "execution_count": 116,
   "metadata": {},
   "outputs": [],
   "source": [
    "common_name = 'test2.txt'\n",
    "common_file(common_name,5)"
   ]
  },
  {
   "cell_type": "markdown",
   "metadata": {},
   "source": [
    "#### 取出共同评分项目数据集"
   ]
  },
  {
   "cell_type": "code",
   "execution_count": 120,
   "metadata": {},
   "outputs": [],
   "source": [
    "def load_common(common_name): \n",
    "    common = pd.read_table(common_name,sep=',')\n",
    "    common = common.fillna(0)\n",
    "    return common"
   ]
  },
  {
   "cell_type": "code",
   "execution_count": null,
   "metadata": {},
   "outputs": [],
   "source": []
  },
  {
   "cell_type": "markdown",
   "metadata": {},
   "source": [
    "#### 获得共同项目中对应用户的评分"
   ]
  },
  {
   "cell_type": "code",
   "execution_count": 138,
   "metadata": {},
   "outputs": [],
   "source": [
    "#生成pearson数值\n",
    "#此函数无输出，但会生成文件:person.txt\n",
    "def pearson_file(common,rate_average):\n",
    "    \n",
    "    '''\n",
    "        common:共同评分项目的数据\n",
    "        rate_average:各个用户的平均评分，索引为userId\n",
    "        data:原始数据，用于获取评分值\n",
    "    '''\n",
    "        \n",
    "    user = []\n",
    "    length = len(common)   #存下总数据数\n",
    "    person = []            #用来存储查看数据  [user1,user2,person]\n",
    "    f = open( 'pearson.txt', 'w', encoding='utf8')\n",
    "    f.write('user1,user2,pearson\\n')\n",
    "    for num in range(length):\n",
    "        user1 = int(common.loc[num][0])          #拿到用户一的  id\n",
    "        user2 = int(common.loc[num][1])\n",
    "        if common.loc[num][2] == 0: continue     #当两用户无共同项目时，跳过\n",
    "        user.append([user1,user2])               #记录当前计算用户id\n",
    "        movie_common = common.loc[num][2].split()   #存储共同项目\n",
    "        rating1 = 0\n",
    "        rating2 = 0\n",
    "        rating3 = 0\n",
    "        for movie_id in movie_common:                 #对每个共同项目进行计算\n",
    "            movie = data[data['movieId'] == int(movie_id)]\n",
    "                                                         #拿到对应的个人评分\n",
    "            rating_user1 = float( movie[movie['userId'] == user1]['rating'] ) \n",
    "            rating_user2 = float( movie[movie['userId'] == user2]['rating'] ) \n",
    "                                                         #开始进行累加的每一步\n",
    "            rating1 += (rating_user1 - rate_average[user1])*(rating_user2 - rate_average[user2])\n",
    "            rating2 += math.pow(rating_user1 - rate_average[user1],2)\n",
    "            rating3 += math.pow(rating_user2 - rate_average[user2],2)\n",
    "                                                        #计算最后的person得分\n",
    "        rating = round( rating1/ ( math.sqrt(rating2) * math.sqrt(rating3) ) ,4)\n",
    "        person.append([user1,user2,rating])\n",
    "        f.write(str(user1)+','+str(user2)+','+str(rating)+'\\n')\n",
    "    f.close()\n",
    "\n",
    "# pearson(common,rate_average,data)"
   ]
  },
  {
   "cell_type": "code",
   "execution_count": 131,
   "metadata": {},
   "outputs": [],
   "source": [
    "def load_pearson():\n",
    "    pearson = pd.read_table('pearson.txt',sep=',')\n",
    "    return pearson"
   ]
  },
  {
   "cell_type": "code",
   "execution_count": null,
   "metadata": {},
   "outputs": [],
   "source": []
  },
  {
   "cell_type": "markdown",
   "metadata": {},
   "source": [
    "#### 计算并返回最近邻"
   ]
  },
  {
   "cell_type": "code",
   "execution_count": 189,
   "metadata": {},
   "outputs": [],
   "source": [
    "def neighbour(pearson,user,movie,pearson_rate,pearson_number):\n",
    "    pearson = pearson[pearson['user1'] == user]\n",
    "    pearson = pearson[pearson['pearson'] > pearson_rate]\n",
    "    neighbours = []\n",
    "    for one in pearson['user2']:\n",
    "        if verify(one,movie):\n",
    "            neighbours.append(int(one))\n",
    "        else:\n",
    "            continue\n",
    "    neighbours.sort(reverse = True)\n",
    "    if pearson_number > 0:\n",
    "        neighbours = neighbours[0:pearson_number]\n",
    "    return neighbours"
   ]
  },
  {
   "cell_type": "markdown",
   "metadata": {},
   "source": [
    "#### 验证该用户是否有目标项目的评分"
   ]
  },
  {
   "cell_type": "code",
   "execution_count": 188,
   "metadata": {},
   "outputs": [],
   "source": [
    "def verify(user2,movie):\n",
    "    user2 = data[data['userId']==user2]\n",
    "    if user2.loc[[user2['movieId']==movie].index]['rating'] > 0:\n",
    "        return True\n",
    "    else:\n",
    "        return False"
   ]
  },
  {
   "cell_type": "markdown",
   "metadata": {},
   "source": [
    "#### 计算随机的movieId"
   ]
  },
  {
   "cell_type": "code",
   "execution_count": 106,
   "metadata": {},
   "outputs": [],
   "source": [
    "def random_movie(user_random):\n",
    "    res = data[data['userId']==user_random]\n",
    "    res.reset_index(drop=True, inplace=True)\n",
    "    movies = []\n",
    "    for one in res['movieId']:\n",
    "        movies.append(int(one))\n",
    "    random.shuffle(movies)\n",
    "    if movies[0] == 0: random_movie(user_random)\n",
    "    else return movies[0]"
   ]
  },
  {
   "cell_type": "markdown",
   "metadata": {},
   "source": [
    "#### 取得制造的随机数"
   ]
  },
  {
   "cell_type": "code",
   "execution_count": 109,
   "metadata": {},
   "outputs": [],
   "source": [
    "def get_random(user_number):\n",
    "    user_random = random.randint(1,user_number)\n",
    "    movie_id = random_movie(user_random)\n",
    "    \n",
    "    return [user_random,movie_id]"
   ]
  },
  {
   "cell_type": "code",
   "execution_count": null,
   "metadata": {},
   "outputs": [],
   "source": []
  },
  {
   "cell_type": "markdown",
   "metadata": {},
   "source": [
    "#### 修改获得的随机用户的项目项目"
   ]
  },
  {
   "cell_type": "code",
   "execution_count": 110,
   "metadata": {},
   "outputs": [],
   "source": [
    "def edit_rating(the_random,rating=0):\n",
    "    user = the_random[0]\n",
    "    movie_id = the_random[1]\n",
    "    fake = data[data['userId']==user]\n",
    "    y_rating = fake.loc[ fake[fake['movieId'] == movie_id].index ]['rating']\n",
    "    fake.loc[ fake[fake['movieId'] == movie_id].index , 'rating']= rating\n",
    "    data[data['userId']==user] = fake\n",
    "    return y_rating"
   ]
  },
  {
   "cell_type": "markdown",
   "metadata": {},
   "source": [
    "#### 恢复被修改的评分数值"
   ]
  },
  {
   "cell_type": "code",
   "execution_count": 162,
   "metadata": {},
   "outputs": [],
   "source": [
    "def recovery(user,movie,y_rating):\n",
    "    fake = data[data['userId']==user]\n",
    "    fake.loc[ fake[fake['movieId'] == movie].index , 'rating']= y_rating\n",
    "    data[data['userId']==user] = fake"
   ]
  },
  {
   "cell_type": "code",
   "execution_count": 128,
   "metadata": {},
   "outputs": [
    {
     "name": "stdout",
     "output_type": "stream",
     "text": [
      "[13, 597]\n",
      "3.0\n"
     ]
    },
    {
     "name": "stderr",
     "output_type": "stream",
     "text": [
      "D:\\anaconda\\lib\\site-packages\\pandas\\core\\indexing.py:537: SettingWithCopyWarning: \n",
      "A value is trying to be set on a copy of a slice from a DataFrame.\n",
      "Try using .loc[row_indexer,col_indexer] = value instead\n",
      "\n",
      "See the caveats in the documentation: http://pandas.pydata.org/pandas-docs/stable/indexing.html#indexing-view-versus-copy\n",
      "  self.obj[item] = s\n"
     ]
    }
   ],
   "source": [
    "the_random = get_random(user_number)\n",
    "y_rating = float(edit_rating(the_random))\n",
    "print(the_random)\n",
    "print(y_rating)"
   ]
  },
  {
   "cell_type": "markdown",
   "metadata": {},
   "source": [
    "#### 预测函数"
   ]
  },
  {
   "cell_type": "code",
   "execution_count": null,
   "metadata": {},
   "outputs": [],
   "source": [
    "def pridect(pearson,user,movie,rate_average,neighbours):\n",
    "    user_1 = user\n",
    "    rating_1 = 0\n",
    "    rating_2 = 0\n",
    "    y_pridect = 0\n",
    "    for user_2 in neighbours:\n",
    "        pearson_rating = float(pearson[pearson['user2']==user_1]['pearson'])\n",
    "        rating_1 = pearson_rating * ()\n",
    "        \n",
    "    return y_pridect"
   ]
  },
  {
   "cell_type": "code",
   "execution_count": 181,
   "metadata": {},
   "outputs": [
    {
     "data": {
      "text/plain": [
       "1.0"
      ]
     },
     "execution_count": 181,
     "metadata": {},
     "output_type": "execute_result"
    }
   ],
   "source": [
    "float(pearson[pearson['user2']==49]['pearson'])"
   ]
  },
  {
   "cell_type": "code",
   "execution_count": 183,
   "metadata": {},
   "outputs": [
    {
     "data": {
      "text/html": [
       "<div>\n",
       "<style scoped>\n",
       "    .dataframe tbody tr th:only-of-type {\n",
       "        vertical-align: middle;\n",
       "    }\n",
       "\n",
       "    .dataframe tbody tr th {\n",
       "        vertical-align: top;\n",
       "    }\n",
       "\n",
       "    .dataframe thead th {\n",
       "        text-align: right;\n",
       "    }\n",
       "</style>\n",
       "<table border=\"1\" class=\"dataframe\">\n",
       "  <thead>\n",
       "    <tr style=\"text-align: right;\">\n",
       "      <th></th>\n",
       "      <th>userId</th>\n",
       "      <th>movieId</th>\n",
       "      <th>rating</th>\n",
       "    </tr>\n",
       "  </thead>\n",
       "  <tbody>\n",
       "  </tbody>\n",
       "</table>\n",
       "</div>"
      ],
      "text/plain": [
       "Empty DataFrame\n",
       "Columns: [userId, movieId, rating]\n",
       "Index: []"
      ]
     },
     "execution_count": 183,
     "metadata": {},
     "output_type": "execute_result"
    }
   ],
   "source": [
    "user2 = data[data['userId'] == 49]\n",
    "user2 = user2[user2['movieId']==296]\n",
    "user2"
   ]
  },
  {
   "cell_type": "code",
   "execution_count": null,
   "metadata": {},
   "outputs": [],
   "source": []
  },
  {
   "cell_type": "code",
   "execution_count": 27,
   "metadata": {},
   "outputs": [
    {
     "data": {
      "text/plain": [
       "userId\n",
       "1    4.3664\n",
       "2    3.9483\n",
       "3    2.4359\n",
       "4    3.5556\n",
       "5    3.6364\n",
       "Name: rating, dtype: float64"
      ]
     },
     "execution_count": 27,
     "metadata": {},
     "output_type": "execute_result"
    }
   ],
   "source": [
    "#测试获得平均评分函数\n",
    "rate_average = average(data)\n",
    "rate_average.head()"
   ]
  },
  {
   "cell_type": "code",
   "execution_count": 22,
   "metadata": {},
   "outputs": [
    {
     "data": {
      "text/plain": [
       "[6, 3, 31]"
      ]
     },
     "execution_count": 22,
     "metadata": {},
     "output_type": "execute_result"
    }
   ],
   "source": [
    "#测试获得随机用户和评分项目函数\n",
    "the_random = get_random_movie(common,user_number)\n",
    "the_random"
   ]
  },
  {
   "cell_type": "code",
   "execution_count": 20,
   "metadata": {},
   "outputs": [],
   "source": [
    "#测试获得共同项目数据集文件函数\n",
    "common_name = 'common.txt'\n",
    "user_number = 10\n",
    "common_file(data,common_name,user_number)\n",
    "common = load_common()"
   ]
  },
  {
   "cell_type": "code",
   "execution_count": null,
   "metadata": {},
   "outputs": [],
   "source": [
    "#测试pearson数据集文件获取函数\n",
    "pearson(data,common,rate_average,data)"
   ]
  },
  {
   "cell_type": "markdown",
   "metadata": {},
   "source": [
    "### test1\n",
    "* 用户数定100，即user_number=100"
   ]
  },
  {
   "cell_type": "code",
   "execution_count": null,
   "metadata": {},
   "outputs": [],
   "source": []
  },
  {
   "cell_type": "code",
   "execution_count": 174,
   "metadata": {},
   "outputs": [
    {
     "name": "stderr",
     "output_type": "stream",
     "text": [
      "D:\\anaconda\\lib\\site-packages\\pandas\\core\\indexing.py:537: SettingWithCopyWarning: \n",
      "A value is trying to be set on a copy of a slice from a DataFrame.\n",
      "Try using .loc[row_indexer,col_indexer] = value instead\n",
      "\n",
      "See the caveats in the documentation: http://pandas.pydata.org/pandas-docs/stable/indexing.html#indexing-view-versus-copy\n",
      "  self.obj[item] = s\n"
     ]
    },
    {
     "name": "stdout",
     "output_type": "stream",
     "text": [
      "[42, 436]\n",
      "4.0\n",
      "[35, 24, 14, 11]\n",
      "**************************************************\n"
     ]
    },
    {
     "name": "stderr",
     "output_type": "stream",
     "text": [
      "D:\\anaconda\\lib\\site-packages\\ipykernel_launcher.py:35: RuntimeWarning: invalid value encountered in double_scalars\n"
     ]
    },
    {
     "name": "stdout",
     "output_type": "stream",
     "text": [
      "[2, 48516]\n",
      "4.0\n",
      "[45, 43, 37, 33]\n",
      "**************************************************\n",
      "[28, 529]\n",
      "3.5\n",
      "[]\n",
      "**************************************************\n",
      "[25, 60069]\n",
      "5.0\n",
      "[49, 48, 47, 46]\n",
      "**************************************************\n",
      "[10, 72011]\n",
      "2.5\n",
      "[46, 43, 31, 29]\n",
      "**************************************************\n",
      "[6, 19]\n",
      "2.0\n",
      "[29, 25, 22, 10]\n",
      "**************************************************\n",
      "[32, 1079]\n",
      "4.0\n",
      "[50, 48, 41, 39]\n",
      "**************************************************\n",
      "[10, 7451]\n",
      "3.5\n",
      "[46, 43, 31, 29]\n",
      "**************************************************\n",
      "[18, 2421]\n",
      "3.0\n",
      "[35, 32, 26, 14]\n",
      "**************************************************\n",
      "[49, 2571]\n",
      "4.5\n",
      "[43, 37, 29, 26]\n",
      "**************************************************\n",
      "[26, 296]\n",
      "4.0\n",
      "[49, 38, 29, 19]\n",
      "**************************************************\n"
     ]
    }
   ],
   "source": [
    "user_number = 100 #设置最大用户数\n",
    "user_number += 1\n",
    "common_name = 'test1.txt'\n",
    "pearson_rate = 0.5\n",
    "pearson_number = 5  #最大近邻数，还未写\n",
    "\n",
    "\n",
    "\n",
    "for time in range(11):\n",
    "    \n",
    "    the_random = get_random(user_number)      #拿到随机数据，形式为 [user_random,movie_random]\n",
    "    user = the_random[0]\n",
    "    movie = the_random[1]\n",
    "    \n",
    "    y_rating = float(edit_rating(the_random))    #修改并拿到随机项目的原始评分\n",
    "    \n",
    "    rate_average = average()                  #拿到平均评分\n",
    "\n",
    "    common_file(common_name,user,user_number)      #写共同项目文件\n",
    "    \n",
    "    common = load_common(common_name)         #拿到共同项目数据\n",
    "    \n",
    "    pearson_file(common,rate_average)         #计算pearson系数，生成文件\n",
    "    \n",
    "    pearson = load_pearson()          #拿到pearson数值\n",
    "    \n",
    "    neighbours = neighbour(pearson,user,movie,pearson_rate,pearson_number)   #获得近邻列表,有两个可选参数，一个pearson_rate，一个pearson_number\n",
    "    \n",
    "    y_predict = pridect(pearson,user,movie,rate_average,neighbours)              #预测评分\n",
    "    \n",
    "    recovery(user,movie,y_rating)         #还原数据集，准备进行下一次循环\n",
    "    \n",
    "    \n",
    "    \n",
    "    \n",
    "    \n",
    "    print(the_random)\n",
    "    print(y_rating)\n",
    "    print(neighbours)\n",
    "    print('*'*50)"
   ]
  },
  {
   "cell_type": "code",
   "execution_count": null,
   "metadata": {},
   "outputs": [],
   "source": []
  }
 ],
 "metadata": {
  "kernelspec": {
   "display_name": "Python 3",
   "language": "python",
   "name": "python3"
  },
  "language_info": {
   "codemirror_mode": {
    "name": "ipython",
    "version": 3
   },
   "file_extension": ".py",
   "mimetype": "text/x-python",
   "name": "python",
   "nbconvert_exporter": "python",
   "pygments_lexer": "ipython3",
   "version": "3.6.4"
  }
 },
 "nbformat": 4,
 "nbformat_minor": 2
}
