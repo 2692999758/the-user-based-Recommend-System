{
 "cells": [
  {
   "cell_type": "markdown",
   "metadata": {},
   "source": [
    "### 任务流程\n",
    "\n",
    "1. 获得共同项目数据集(所有用户的，且独立到程序外的)（可选方案之一）\n",
    "1. 先取得初始数据\n",
    "\n",
    "3. 获得随机用户和随机评分项目\n",
    "4. 修改目标项目评分\n",
    "6. 计算平均评分\n",
    "5. 获得共同项目数据集  (只获得目标用户相关即可)\n",
    "7. 计算pearson系数   （只计算目标用户相关即可）\n",
    "8. 找出近邻（需要一个最低相关度，或者一个topK）\n",
    "9. 产生预测\n",
    "12. 恢复数据\n",
    "10. 重复3~8步，并记录数据值\n",
    "11. 对照原始数据，计算评分\n",
    "\n",
    "`存在问题：若随机获得的两用户相似度很低，又该如何`"
   ]
  },
  {
   "cell_type": "code",
   "execution_count": 75,
   "metadata": {},
   "outputs": [],
   "source": [
    "import pandas as pd\n",
    "import matplotlib.pyplot as plt\n",
    "import numpy as np\n",
    "import math\n",
    "import random\n",
    "from sklearn.model_selection import train_test_split\n",
    "import matplotlib.pyplot as plt"
   ]
  },
  {
   "cell_type": "code",
   "execution_count": 2,
   "metadata": {},
   "outputs": [
    {
     "data": {
      "text/html": [
       "<div>\n",
       "<style scoped>\n",
       "    .dataframe tbody tr th:only-of-type {\n",
       "        vertical-align: middle;\n",
       "    }\n",
       "\n",
       "    .dataframe tbody tr th {\n",
       "        vertical-align: top;\n",
       "    }\n",
       "\n",
       "    .dataframe thead th {\n",
       "        text-align: right;\n",
       "    }\n",
       "</style>\n",
       "<table border=\"1\" class=\"dataframe\">\n",
       "  <thead>\n",
       "    <tr style=\"text-align: right;\">\n",
       "      <th></th>\n",
       "      <th>userId</th>\n",
       "      <th>movieId</th>\n",
       "      <th>rating</th>\n",
       "    </tr>\n",
       "  </thead>\n",
       "  <tbody>\n",
       "    <tr>\n",
       "      <th>0</th>\n",
       "      <td>1</td>\n",
       "      <td>1</td>\n",
       "      <td>4.0</td>\n",
       "    </tr>\n",
       "    <tr>\n",
       "      <th>1</th>\n",
       "      <td>1</td>\n",
       "      <td>3</td>\n",
       "      <td>4.0</td>\n",
       "    </tr>\n",
       "    <tr>\n",
       "      <th>2</th>\n",
       "      <td>1</td>\n",
       "      <td>6</td>\n",
       "      <td>4.0</td>\n",
       "    </tr>\n",
       "    <tr>\n",
       "      <th>3</th>\n",
       "      <td>1</td>\n",
       "      <td>47</td>\n",
       "      <td>5.0</td>\n",
       "    </tr>\n",
       "    <tr>\n",
       "      <th>4</th>\n",
       "      <td>1</td>\n",
       "      <td>50</td>\n",
       "      <td>5.0</td>\n",
       "    </tr>\n",
       "  </tbody>\n",
       "</table>\n",
       "</div>"
      ],
      "text/plain": [
       "   userId  movieId  rating\n",
       "0       1        1     4.0\n",
       "1       1        3     4.0\n",
       "2       1        6     4.0\n",
       "3       1       47     5.0\n",
       "4       1       50     5.0"
      ]
     },
     "execution_count": 2,
     "metadata": {},
     "output_type": "execute_result"
    }
   ],
   "source": [
    "data = pd.read_csv('./movie_lens/ratings.csv')\n",
    "data = data.drop('timestamp',axis=1)\n",
    "data.head()"
   ]
  },
  {
   "cell_type": "code",
   "execution_count": 3,
   "metadata": {},
   "outputs": [
    {
     "name": "stdout",
     "output_type": "stream",
     "text": [
      "<class 'pandas.core.frame.DataFrame'>\n",
      "RangeIndex: 100836 entries, 0 to 100835\n",
      "Data columns (total 3 columns):\n",
      "userId     100836 non-null int64\n",
      "movieId    100836 non-null int64\n",
      "rating     100836 non-null float64\n",
      "dtypes: float64(1), int64(2)\n",
      "memory usage: 2.3 MB\n"
     ]
    }
   ],
   "source": [
    "data.info()"
   ]
  },
  {
   "cell_type": "markdown",
   "metadata": {},
   "source": [
    "#### 计算用户的平均评分"
   ]
  },
  {
   "cell_type": "code",
   "execution_count": 4,
   "metadata": {},
   "outputs": [],
   "source": [
    "def average(data):\n",
    "    rate_average = round( data.groupby(['userId'])['rating'].sum() / data.groupby(['userId'])['rating'].count() , 4)\n",
    "    return rate_average"
   ]
  },
  {
   "cell_type": "code",
   "execution_count": 119,
   "metadata": {},
   "outputs": [
    {
     "data": {
      "text/plain": [
       "userId\n",
       "1    4.3664\n",
       "2    3.9483\n",
       "3    2.4359\n",
       "4    3.5556\n",
       "5    3.6364\n",
       "Name: rating, dtype: float64"
      ]
     },
     "execution_count": 119,
     "metadata": {},
     "output_type": "execute_result"
    }
   ],
   "source": [
    "rate_average = average()\n",
    "rate_average.head()"
   ]
  },
  {
   "cell_type": "markdown",
   "metadata": {},
   "source": [
    "#### 计算并获得共同评分项目数据集\n",
    "``` userId_1 userId_2 movieIds\n",
    "```\n",
    "\n",
    "`抽出所有的共同评分的数据信息`"
   ]
  },
  {
   "cell_type": "code",
   "execution_count": 128,
   "metadata": {},
   "outputs": [],
   "source": [
    "def common_file(data,common_name):\n",
    "    f = open(common_name, 'w', encoding='utf8')\n",
    "    f.write('userId_1,userId_2,movieIds\\n')\n",
    "    id_list = []\n",
    "    for j in data['userId']:     #这里的迭代体 5 是用户数，假定用户1为比较用户，用户2为被比较用户，此处显然为用户1的个数\n",
    "        if j ==0 :continue\n",
    "        for i in data['userId']:    #这里的迭代体 11 是用户2的个数\n",
    "            if i == 0 : continue\n",
    "            if j == i : continue\n",
    "                #获得电影编号\n",
    "            if [j,i] in id_list or [i,j] in id_list:\n",
    "                continue\n",
    "            else:\n",
    "                id_list.append([i,j])\n",
    "            movie_1 = data[data['userId']==j]\n",
    "            movie_2 = data[data['userId']==i]\n",
    "            f.write( str(j) +','+str(i)+',')\n",
    "            for m_id in movie_1['movieId']:                   #遍历用户1的项目，每个都拿去在用户2的项目里检索\n",
    "                judge = movie_2[movie_2['movieId'] == m_id]    #为获得共有电影编号参数 number 做准备\n",
    "                number = judge['movieId']\n",
    "                if judge.empty: \n",
    "                    pass                          #检查是否有共同项目，无则pass，有则写入文件\n",
    "                else:  \n",
    "                    f.write(str(int(number)) + ' ')\n",
    "            f.write('\\n')\n",
    "    f.close()"
   ]
  },
  {
   "cell_type": "code",
   "execution_count": null,
   "metadata": {},
   "outputs": [],
   "source": [
    "common_file(101)"
   ]
  },
  {
   "cell_type": "markdown",
   "metadata": {},
   "source": [
    "#### 获得与目标用户有关的共同项目集"
   ]
  },
  {
   "cell_type": "code",
   "execution_count": 6,
   "metadata": {},
   "outputs": [],
   "source": [
    "#制作公共影片文件  common.txt\n",
    "def common_file(common_name,user_1,user_number):\n",
    "    #获得公共影片信息\n",
    "    #movie_1就是用户j评过分的电影,同理movie_2就是用户i评过分的电影\n",
    "    f = open( common_name, 'w', encoding='utf8')\n",
    "    f.write('userId_1,userId_2,movieIds\\n')\n",
    "    movie_1 = data[data['userId']==user_1]\n",
    "    for user_2 in range(user_number):     #这里的迭代体 5 是用户数，假定用户1为比较用户，用户2为被比较用户，此处显然为用户1的个数\n",
    "        if user_2 ==0 :continue\n",
    "        if user_2 == user_1 : continue\n",
    "                #获得电影编号\n",
    "        movie_2 = data[data['userId']==user_2]\n",
    "        f.write( str(user_1) +','+str(user_2)+',')\n",
    "        for m_id in movie_1['movieId']:                   #遍历用户1的项目，每个都拿去在用户2的项目里检索\n",
    "            judge = movie_2[movie_2['movieId'] == m_id]    #为获得共有电影编号参数 number 做准备\n",
    "            Id = judge['movieId']\n",
    "            if judge.empty: pass                          #检查是否有共同项目，无则pass，有则写入文件\n",
    "            else:  \n",
    "                f.write(str(int(Id)) + ' ')\n",
    "        f.write('\\n')\n",
    "    f.close()"
   ]
  },
  {
   "cell_type": "code",
   "execution_count": 116,
   "metadata": {},
   "outputs": [],
   "source": [
    "common_name = 'test2.txt'\n",
    "common_file(common_name,5)"
   ]
  },
  {
   "cell_type": "markdown",
   "metadata": {},
   "source": [
    "#### 取出共同评分项目数据集"
   ]
  },
  {
   "cell_type": "code",
   "execution_count": 7,
   "metadata": {},
   "outputs": [],
   "source": [
    "def load_common(common_name): \n",
    "    common = pd.read_table(common_name,sep=',')\n",
    "    common = common.fillna(0)\n",
    "    return common"
   ]
  },
  {
   "cell_type": "code",
   "execution_count": null,
   "metadata": {},
   "outputs": [],
   "source": []
  },
  {
   "cell_type": "markdown",
   "metadata": {},
   "source": [
    "#### 获得共同项目中对应用户的评分"
   ]
  },
  {
   "cell_type": "code",
   "execution_count": 8,
   "metadata": {},
   "outputs": [],
   "source": [
    "#生成pearson数值\n",
    "#此函数无输出，但会生成文件:person.txt\n",
    "def pearson_file(common,rate_average):\n",
    "    \n",
    "    '''\n",
    "        common:共同评分项目的数据\n",
    "        rate_average:各个用户的平均评分，索引为userId\n",
    "        data:原始数据，用于获取评分值\n",
    "    '''\n",
    "        \n",
    "    user = []\n",
    "    length = len(common)   #存下总数据数\n",
    "    person = []            #用来存储查看数据  [user1,user2,person]\n",
    "    f = open( 'pearson.txt', 'w', encoding='utf8')\n",
    "    f.write('user1,user2,pearson\\n')\n",
    "    for num in range(length):\n",
    "        user1 = int(common.loc[num][0])          #拿到用户一的  id\n",
    "        user2 = int(common.loc[num][1])\n",
    "        if common.loc[num][2] == 0: continue     #当两用户无共同项目时，跳过\n",
    "        user.append([user1,user2])               #记录当前计算用户id\n",
    "        movie_common = common.loc[num][2].split()   #存储共同项目\n",
    "        rating1 = 0\n",
    "        rating2 = 0\n",
    "        rating3 = 0\n",
    "        for movie_id in movie_common:                 #对每个共同项目进行计算\n",
    "            movie = data[data['movieId'] == int(movie_id)]\n",
    "                                                         #拿到对应的个人评分\n",
    "            rating_user1 = float( movie[movie['userId'] == user1]['rating'] ) \n",
    "            rating_user2 = float( movie[movie['userId'] == user2]['rating'] ) \n",
    "                                                         #开始进行累加的每一步\n",
    "            rating1 += (rating_user1 - rate_average[user1])*(rating_user2 - rate_average[user2])\n",
    "            rating2 += math.pow(rating_user1 - rate_average[user1],2)\n",
    "            rating3 += math.pow(rating_user2 - rate_average[user2],2)\n",
    "                                                        #计算最后的person得分\n",
    "        rating = round( rating1/ ( math.sqrt(rating2) * math.sqrt(rating3) ) ,4)\n",
    "        person.append([user1,user2,rating])\n",
    "        f.write(str(user1)+','+str(user2)+','+str(rating)+'\\n')\n",
    "    f.close()\n",
    "\n",
    "# pearson(common,rate_average,data)"
   ]
  },
  {
   "cell_type": "code",
   "execution_count": 66,
   "metadata": {},
   "outputs": [],
   "source": [
    "#生成pearson数值\n",
    "#此函数无输出，但会生成文件:person.txt\n",
    "def get_pearson(pearson_name,user_1,train_data,rate_average):\n",
    "    user = []\n",
    "    f = open( pearson_name, 'w', encoding='utf8')\n",
    "    f.write('user1,user2,pearson\\n')\n",
    "#     num = 0\n",
    "    user1_data = train_data[train_data['userId'] == user_1]\n",
    "    for user_2 in train_data['userId']:\n",
    "        if user_1 == user_2:\n",
    "            continue\n",
    "        if [user_1,user_2] in user or [user_2,user_1] in user:\n",
    "            continue\n",
    "        else:\n",
    "            user.append([user_1,user_2])\n",
    "        user2_data = train_data[train_data['userId'] == user_2]\n",
    "        movies = [x1  for x1 in user1_data['movieId'] for x2 in user2_data['movieId'] if x1==x2]\n",
    "        rating1 = sum( [( float( user1_data[user1_data['movieId'] == movie_id]['rating'] - rate_average[user_1] ) ) *\n",
    "                         ( float( user2_data[user2_data['movieId'] == movie_id]['rating'] - rate_average[user_2]) )\n",
    "                         for movie_id in movies] )\n",
    "        rating2 =  sum(  [ ( float( user1_data[user1_data['movieId'] == movie_id]['rating'] - rate_average[user_1]) ) **2 \n",
    "                              for movie_id in movies] )  \n",
    "        rating3 =  sum(  [ ( float( user2_data[user2_data['movieId'] == movie_id]['rating'] - rate_average[user_2]) ) **2 \n",
    "                              for movie_id in movies] )  \n",
    "        if rating2 == 0 or rating3 == 0:\n",
    "            rating = 0\n",
    "        else:\n",
    "            rating = round( rating1/ ( math.sqrt(rating2) * math.sqrt(rating3) ) ,4)\n",
    "        f.write(str(user_1)+','+str(user_2)+','+str(rating)+'\\n')\n",
    "#         num += 1\n",
    "#         print('\\r'+'▇'*(num//31)+str(round(num/6.1,2))+'%', end='')\n",
    "    f.close()\n",
    "\n",
    "# pearson(common,rate_average,data)"
   ]
  },
  {
   "cell_type": "code",
   "execution_count": 150,
   "metadata": {},
   "outputs": [
    {
     "data": {
      "text/plain": [
       "6"
      ]
     },
     "execution_count": 150,
     "metadata": {},
     "output_type": "execute_result"
    }
   ],
   "source": [
    "ll = [1,2,3]\n",
    "sum(ll)"
   ]
  },
  {
   "cell_type": "code",
   "execution_count": 171,
   "metadata": {},
   "outputs": [
    {
     "data": {
      "text/plain": [
       "-15.78309999999985"
      ]
     },
     "execution_count": 171,
     "metadata": {},
     "output_type": "execute_result"
    }
   ],
   "source": [
    "user1 = x_train[x_train['userId'] == 483]\n",
    "user2 = x_train[x_train['userId'] == 599]\n",
    "user1_data = train[train['userId'] == 483]\n",
    "user2_data = train[train['userId'] == 599]\n",
    "movies = [x1  for x1 in user1['movieId'] for x2 in user2['movieId'] if x1==x2]\n",
    "rating1 = [ ( float(user1_data[user1_data['movieId'] == movie_id]['rating']) - rate_average[483]) *\n",
    "                         ( float( user2_data[user2_data['movieId'] == movie_id]['rating'] ) - rate_average[599]) \n",
    "                         for movie_id in movies] \n",
    "rating1 = sum(rating)\n",
    "rating1\n",
    "# rating = [ float( user1_data[user1_data['movieId'] == movie_id]['rating']) - rate_average[483]  for movie_id in movies]\n",
    "# rating"
   ]
  },
  {
   "cell_type": "code",
   "execution_count": 149,
   "metadata": {},
   "outputs": [
    {
     "data": {
      "text/html": [
       "<div>\n",
       "<style scoped>\n",
       "    .dataframe tbody tr th:only-of-type {\n",
       "        vertical-align: middle;\n",
       "    }\n",
       "\n",
       "    .dataframe tbody tr th {\n",
       "        vertical-align: top;\n",
       "    }\n",
       "\n",
       "    .dataframe thead th {\n",
       "        text-align: right;\n",
       "    }\n",
       "</style>\n",
       "<table border=\"1\" class=\"dataframe\">\n",
       "  <thead>\n",
       "    <tr style=\"text-align: right;\">\n",
       "      <th></th>\n",
       "      <th>userId</th>\n",
       "      <th>movieId</th>\n",
       "      <th>rating</th>\n",
       "    </tr>\n",
       "  </thead>\n",
       "  <tbody>\n",
       "    <tr>\n",
       "      <th>77701</th>\n",
       "      <td>483</td>\n",
       "      <td>8529</td>\n",
       "      <td>4.0</td>\n",
       "    </tr>\n",
       "    <tr>\n",
       "      <th>94477</th>\n",
       "      <td>599</td>\n",
       "      <td>33437</td>\n",
       "      <td>2.5</td>\n",
       "    </tr>\n",
       "    <tr>\n",
       "      <th>36246</th>\n",
       "      <td>247</td>\n",
       "      <td>5349</td>\n",
       "      <td>2.0</td>\n",
       "    </tr>\n",
       "    <tr>\n",
       "      <th>17483</th>\n",
       "      <td>111</td>\n",
       "      <td>7361</td>\n",
       "      <td>3.5</td>\n",
       "    </tr>\n",
       "    <tr>\n",
       "      <th>100300</th>\n",
       "      <td>610</td>\n",
       "      <td>57504</td>\n",
       "      <td>4.5</td>\n",
       "    </tr>\n",
       "  </tbody>\n",
       "</table>\n",
       "</div>"
      ],
      "text/plain": [
       "        userId  movieId  rating\n",
       "77701      483     8529     4.0\n",
       "94477      599    33437     2.5\n",
       "36246      247     5349     2.0\n",
       "17483      111     7361     3.5\n",
       "100300     610    57504     4.5"
      ]
     },
     "execution_count": 149,
     "metadata": {},
     "output_type": "execute_result"
    }
   ],
   "source": [
    "train.head()"
   ]
  },
  {
   "cell_type": "code",
   "execution_count": 6,
   "metadata": {},
   "outputs": [],
   "source": [
    "def load_pearson(pearson_name):\n",
    "    pearson = pd.read_table(pearson_name,sep=',')\n",
    "    return pearson"
   ]
  },
  {
   "cell_type": "code",
   "execution_count": null,
   "metadata": {},
   "outputs": [],
   "source": []
  },
  {
   "cell_type": "markdown",
   "metadata": {},
   "source": [
    "#### 计算并返回最近邻"
   ]
  },
  {
   "cell_type": "code",
   "execution_count": 69,
   "metadata": {},
   "outputs": [],
   "source": [
    "def neighbour(pearson,user,movie,pearson_rate,pearson_number):\n",
    "    pearson = pearson[pearson['user1'] == user]\n",
    "    pearson = pearson[pearson['pearson'] > pearson_rate]\n",
    "    neighbours = []\n",
    "    for one in pearson['user2']:\n",
    "        if verify(one,movie):\n",
    "            neighbours.append(int(one))\n",
    "        else:\n",
    "            continue\n",
    "    neighbours.sort(reverse = True)\n",
    "#     if pearson_number > 0:\n",
    "#         neighbours = neighbours[0:pearson_number]\n",
    "#     print(\"neighbour work well\")\n",
    "    return neighbours"
   ]
  },
  {
   "cell_type": "code",
   "execution_count": 15,
   "metadata": {},
   "outputs": [],
   "source": [
    "def neighbour(pearson_data,user,pearson_rate,pearson_number):\n",
    "    pearson = pearson_data[pearson_data['user1'] == user]\n",
    "    pearson = pearson[pearson['pearson'] > pearson_rate]\n",
    "    neighbours = []\n",
    "    for one in pearson['user2']:\n",
    "        neighbours.append(int(one))\n",
    "    neighbours.sort(reverse = True)\n",
    "    if pearson_number > 0:\n",
    "        neighbours = neighbours[0:pearson_number]\n",
    "    return neighbours"
   ]
  },
  {
   "cell_type": "markdown",
   "metadata": {},
   "source": [
    "#### 验证该用户是否有目标项目的评分"
   ]
  },
  {
   "cell_type": "code",
   "execution_count": 37,
   "metadata": {},
   "outputs": [],
   "source": [
    "def verify(user2,movie):\n",
    "    user2_data = data[data['userId']==user2]\n",
    "    if user2_data[user2_data['movieId']==movie]['rating'].empty:\n",
    "        return False\n",
    "    else:\n",
    "        return True"
   ]
  },
  {
   "cell_type": "code",
   "execution_count": 36,
   "metadata": {},
   "outputs": [
    {
     "name": "stdout",
     "output_type": "stream",
     "text": [
      "ok\n"
     ]
    }
   ],
   "source": [
    "user2_data = data[data['userId']==10]\n",
    "if user2_data[user2_data['movieId']==88]['rating'].empty:\n",
    "    print(\"ok\")"
   ]
  },
  {
   "cell_type": "code",
   "execution_count": 30,
   "metadata": {},
   "outputs": [
    {
     "data": {
      "text/plain": [
       "88"
      ]
     },
     "execution_count": 30,
     "metadata": {},
     "output_type": "execute_result"
    }
   ],
   "source": [
    "movie"
   ]
  },
  {
   "cell_type": "markdown",
   "metadata": {},
   "source": [
    "#### 计算随机的movieId"
   ]
  },
  {
   "cell_type": "code",
   "execution_count": 13,
   "metadata": {},
   "outputs": [],
   "source": [
    "def random_movie(user_random):\n",
    "    res = data[data['userId']==user_random]\n",
    "    res.reset_index(drop=True, inplace=True)\n",
    "    movies = []\n",
    "    for one in res['movieId']:\n",
    "        movies.append(int(one))\n",
    "    random.shuffle(movies)\n",
    "    if movies[0] == 0: random_movie(user_random)\n",
    "    else:\n",
    "        return movies[0]"
   ]
  },
  {
   "cell_type": "markdown",
   "metadata": {},
   "source": [
    "#### 取得制造的随机数"
   ]
  },
  {
   "cell_type": "code",
   "execution_count": 68,
   "metadata": {},
   "outputs": [],
   "source": [
    "def get_random(user_number):\n",
    "#     start = random.randint()\n",
    "    user_random = random.randint(1,user_number)\n",
    "    movie_id = random_movie(user_random)\n",
    "#     print(\"get_random work well\")\n",
    "    return [user_random,movie_id]"
   ]
  },
  {
   "cell_type": "code",
   "execution_count": null,
   "metadata": {},
   "outputs": [],
   "source": []
  },
  {
   "cell_type": "markdown",
   "metadata": {},
   "source": [
    "#### 修改获得的随机用户的项目项目"
   ]
  },
  {
   "cell_type": "code",
   "execution_count": 67,
   "metadata": {},
   "outputs": [],
   "source": [
    "def edit_rating(the_random,rating=0):\n",
    "    user = the_random[0]\n",
    "    movie_id = the_random[1]\n",
    "    fake = data[data['userId']==user]\n",
    "    y_rating = fake.loc[ fake[fake['movieId'] == movie_id].index ]['rating']\n",
    "    fake.loc[ fake[fake['movieId'] == movie_id].index , 'rating']= rating\n",
    "    data[data['userId']==user] = fake\n",
    "#     print(\"edit_rating work well\")\n",
    "    return y_rating"
   ]
  },
  {
   "cell_type": "markdown",
   "metadata": {},
   "source": [
    "#### 恢复被修改的评分数值"
   ]
  },
  {
   "cell_type": "code",
   "execution_count": 66,
   "metadata": {},
   "outputs": [],
   "source": [
    "def recovery(user,movie,y_rating):\n",
    "    fake = data[data['userId']==user]\n",
    "    fake.loc[ fake[fake['movieId'] == movie].index , 'rating']= y_rating\n",
    "    data[data['userId']==user] = fake\n",
    "#     print(\"recovery work well\")"
   ]
  },
  {
   "cell_type": "code",
   "execution_count": 128,
   "metadata": {},
   "outputs": [
    {
     "name": "stdout",
     "output_type": "stream",
     "text": [
      "[13, 597]\n",
      "3.0\n"
     ]
    },
    {
     "name": "stderr",
     "output_type": "stream",
     "text": [
      "D:\\anaconda\\lib\\site-packages\\pandas\\core\\indexing.py:537: SettingWithCopyWarning: \n",
      "A value is trying to be set on a copy of a slice from a DataFrame.\n",
      "Try using .loc[row_indexer,col_indexer] = value instead\n",
      "\n",
      "See the caveats in the documentation: http://pandas.pydata.org/pandas-docs/stable/indexing.html#indexing-view-versus-copy\n",
      "  self.obj[item] = s\n"
     ]
    }
   ],
   "source": [
    "the_random = get_random(user_number)\n",
    "y_rating = float(edit_rating(the_random))\n",
    "print(the_random)\n",
    "print(y_rating)"
   ]
  },
  {
   "cell_type": "markdown",
   "metadata": {},
   "source": [
    "#### 预测函数"
   ]
  },
  {
   "cell_type": "code",
   "execution_count": 105,
   "metadata": {},
   "outputs": [],
   "source": [
    "def pridect(pearson_data,user,movie,rate_average,neighbours):\n",
    "    user_1 = user\n",
    "    rating_1 = 0\n",
    "    rating_2 = 0\n",
    "    y_pridect = 0\n",
    "    user_2_rating = 0\n",
    "    for user_2 in neighbours:\n",
    "        if pearson_data[pearson_data['user2']==user_2]['pearson'].empty:\n",
    "            continue\n",
    "        else:\n",
    "            pearson_rating = float(pearson_data[pearson_data['user2']==user_2]['pearson'])\n",
    "        if pearson_rating == 0:\n",
    "            continue\n",
    "        user_2_rating = data[data['userId'] == user_2]\n",
    "        if user_2_rating[user_2_rating['movieId'] == movie]['rating'].empty:\n",
    "            continue\n",
    "        else:\n",
    "            user_2_rating = float(user_2_rating[user_2_rating['movieId'] == movie]['rating'])\n",
    "        rating_1 +=  pearson_rating * ( user_2_rating - rate_average[user_2])\n",
    "        rating_2 +=  abs(pearson_rating)\n",
    "    if rating_2 == 0:\n",
    "        y_pridect = 'error'\n",
    "    else:\n",
    "        y_pridect = round( rate_average[user_1] + rating_1 / rating_2 ,1)\n",
    "    return y_pridect"
   ]
  },
  {
   "cell_type": "code",
   "execution_count": 181,
   "metadata": {},
   "outputs": [
    {
     "data": {
      "text/plain": [
       "1.0"
      ]
     },
     "execution_count": 181,
     "metadata": {},
     "output_type": "execute_result"
    }
   ],
   "source": [
    "float(pearson[pearson['user2']==49]['pearson'])"
   ]
  },
  {
   "cell_type": "code",
   "execution_count": 58,
   "metadata": {},
   "outputs": [
    {
     "data": {
      "text/html": [
       "<div>\n",
       "<style scoped>\n",
       "    .dataframe tbody tr th:only-of-type {\n",
       "        vertical-align: middle;\n",
       "    }\n",
       "\n",
       "    .dataframe tbody tr th {\n",
       "        vertical-align: top;\n",
       "    }\n",
       "\n",
       "    .dataframe thead th {\n",
       "        text-align: right;\n",
       "    }\n",
       "</style>\n",
       "<table border=\"1\" class=\"dataframe\">\n",
       "  <thead>\n",
       "    <tr style=\"text-align: right;\">\n",
       "      <th></th>\n",
       "      <th>userId</th>\n",
       "      <th>movieId</th>\n",
       "      <th>rating</th>\n",
       "    </tr>\n",
       "  </thead>\n",
       "  <tbody>\n",
       "    <tr>\n",
       "      <th>1330</th>\n",
       "      <td>12</td>\n",
       "      <td>543</td>\n",
       "      <td>3.5</td>\n",
       "    </tr>\n",
       "  </tbody>\n",
       "</table>\n",
       "</div>"
      ],
      "text/plain": [
       "      userId  movieId  rating\n",
       "1330      12      543     3.5"
      ]
     },
     "execution_count": 58,
     "metadata": {},
     "output_type": "execute_result"
    }
   ],
   "source": [
    "user2 = data[data['userId'] == 12]\n",
    "user2 = user2[user2['movieId']==543]\n",
    "user2"
   ]
  },
  {
   "cell_type": "code",
   "execution_count": null,
   "metadata": {},
   "outputs": [],
   "source": []
  },
  {
   "cell_type": "code",
   "execution_count": 27,
   "metadata": {},
   "outputs": [
    {
     "data": {
      "text/plain": [
       "userId\n",
       "1    4.3664\n",
       "2    3.9483\n",
       "3    2.4359\n",
       "4    3.5556\n",
       "5    3.6364\n",
       "Name: rating, dtype: float64"
      ]
     },
     "execution_count": 27,
     "metadata": {},
     "output_type": "execute_result"
    }
   ],
   "source": [
    "#测试获得平均评分函数\n",
    "rate_average = average(data)\n",
    "rate_average.head()"
   ]
  },
  {
   "cell_type": "code",
   "execution_count": 22,
   "metadata": {},
   "outputs": [
    {
     "data": {
      "text/plain": [
       "[6, 3, 31]"
      ]
     },
     "execution_count": 22,
     "metadata": {},
     "output_type": "execute_result"
    }
   ],
   "source": [
    "#测试获得随机用户和评分项目函数\n",
    "the_random = get_random_movie(common,user_number)\n",
    "the_random"
   ]
  },
  {
   "cell_type": "code",
   "execution_count": 20,
   "metadata": {},
   "outputs": [],
   "source": [
    "#测试获得共同项目数据集文件函数\n",
    "common_name = 'common.txt'\n",
    "user_number = 10\n",
    "common_file(data,common_name,user_number)\n",
    "common = load_common()"
   ]
  },
  {
   "cell_type": "code",
   "execution_count": null,
   "metadata": {},
   "outputs": [],
   "source": [
    "#测试pearson数据集文件获取函数\n",
    "pearson(data,common,rate_average,data)"
   ]
  },
  {
   "cell_type": "markdown",
   "metadata": {},
   "source": [
    "### test1 :每次选取一个项目清空，计算MAE值做评价标准\n",
    "* 用户数定100，即user_number=100"
   ]
  },
  {
   "cell_type": "code",
   "execution_count": null,
   "metadata": {},
   "outputs": [],
   "source": []
  },
  {
   "cell_type": "code",
   "execution_count": 80,
   "metadata": {},
   "outputs": [
    {
     "name": "stderr",
     "output_type": "stream",
     "text": [
      "D:\\anaconda\\lib\\site-packages\\pandas\\core\\indexing.py:537: SettingWithCopyWarning: \n",
      "A value is trying to be set on a copy of a slice from a DataFrame.\n",
      "Try using .loc[row_indexer,col_indexer] = value instead\n",
      "\n",
      "See the caveats in the documentation: http://pandas.pydata.org/pandas-docs/stable/indexing.html#indexing-view-versus-copy\n",
      "  self.obj[item] = s\n",
      "D:\\anaconda\\lib\\site-packages\\ipykernel_launcher.py:35: RuntimeWarning: invalid value encountered in double_scalars\n"
     ]
    },
    {
     "name": "stdout",
     "output_type": "stream",
     "text": [
      "mae is 1.278235294117648\n"
     ]
    }
   ],
   "source": [
    "user_number = 100 #设置最大用户数\n",
    "user_number += 1\n",
    "common_name = 'test1.txt'\n",
    "pearson_rate = 0.1\n",
    "pearson_number = 5  #最大近邻数，还未写\n",
    "\n",
    "mae = 0\n",
    "num = 0\n",
    "for time in range(100):\n",
    "    \n",
    "    the_random = get_random(user_number)      #拿到随机数据，形式为 [user_random,movie_random]\n",
    "    user = the_random[0]\n",
    "    movie = the_random[1]\n",
    "    \n",
    "    y_rating = float(edit_rating(the_random))    #修改并拿到随机项目的原始评分\n",
    "    \n",
    "    rate_average = average()                  #拿到平均评分\n",
    "\n",
    "    common_file(common_name,user,user_number)      #写共同项目文件\n",
    "    \n",
    "    common = load_common(common_name)         #拿到共同项目数据\n",
    "    \n",
    "    pearson_file(common,rate_average)         #计算pearson系数，生成文件\n",
    "    \n",
    "    pearson = load_pearson()          #拿到pearson数值\n",
    "    \n",
    "    neighbours = neighbour(pearson,user,movie,pearson_rate,pearson_number)\n",
    "    #获得近邻列表,有两个可选参数，一个pearson_rate，一个pearson_number\n",
    "    if len(neighbours)<=2:\n",
    "#         print(\"neighbours is too little!\")\n",
    "        continue\n",
    "    \n",
    "    y_predict = pridect(pearson,user,movie,rate_average,neighbours)              #预测评分\n",
    "    \n",
    "    mae += (y_rating - y_predict)*(y_rating - y_predict)\n",
    "    num += 1\n",
    "    \n",
    "    recovery(user,movie,y_rating)         #还原数据集，准备进行下一次循环\n",
    "    \n",
    "    \n",
    "    \n",
    "#     print('predict rating is %s'%y_predict)\n",
    "#     print(the_random)\n",
    "#     print('true rating is %s'%y_rating)\n",
    "#     print(neighbours)\n",
    "#     print('*'*50)\n",
    "mae = mae/num\n",
    "print(\"mae is %s\"%mae)"
   ]
  },
  {
   "cell_type": "code",
   "execution_count": null,
   "metadata": {},
   "outputs": [],
   "source": [
    "# mae is 0.9009090909090911   user_number = 80   loop = 20  pearson_rate = 0.1\n",
    "# mae is 0.44    user_number = 100   loop = 10  pearson_rate = 0.1\n",
    "# mae is 1.278235294117648  user_number = 100   loop = 100  pearson_rate = 0.1"
   ]
  },
  {
   "cell_type": "markdown",
   "metadata": {},
   "source": [
    "### test2:使用sklearn划分数据集，使用8:2来划分，对测试集进行预测"
   ]
  },
  {
   "cell_type": "code",
   "execution_count": 106,
   "metadata": {},
   "outputs": [
    {
     "name": "stdout",
     "output_type": "stream",
     "text": [
      "3.28%"
     ]
    },
    {
     "data": {
      "image/png": "[encoded data removed]",
      "text/plain": [
       "<matplotlib.figure.Figure at 0x22062ce11d0>"
      ]
     },
     "metadata": {},
     "output_type": "display_data"
    }
   ],
   "source": [
    "pearson_name = 'pearson.txt'\n",
    "test_size = 0.2\n",
    "pearson_rate = 0.5\n",
    "pearson_number = 10\n",
    "the_break = 20\n",
    "\n",
    "x,y = data.ix[:,:2],data.ix[:,2]\n",
    "x_train,x_test,y_train,y_test = train_test_split(x,y,test_size=test_size,random_state=0)\n",
    "train = x_train.copy(deep=True)\n",
    "train['rating'] = y_train\n",
    "rate_average = average(train) \n",
    "\n",
    "mae = []\n",
    "number = 0\n",
    "deta = 0\n",
    "\n",
    "for user_data in x_test.itertuples(index=True):\n",
    "    id_index = user_data[0]\n",
    "    user_id = user_data[1]\n",
    "    movie = user_data[2]\n",
    "    get_pearson(pearson_name,user_id,train,rate_average)\n",
    "    pearson_data = load_pearson(pearson_name)\n",
    "    neighbours = neighbour(pearson_data,user_id,pearson_rate,pearson_number)\n",
    "    y_predict = pridect(pearson_data,user_id,movie,rate_average,neighbours)\n",
    "    if y_predict == 'error':\n",
    "        continue\n",
    "    y_rating = y_test[id_index]\n",
    "    number += 1\n",
    "    deta += (y_rating - y_predict)*(y_rating - y_predict)\n",
    "    mae.append( round(deta/number,2) )\n",
    "    print('\\r'+'▇'*(number//31)+str(round(number/6.1,2))+'%', end='')\n",
    "    if number==the_break:\n",
    "        break\n",
    "fig = plt.figure()\n",
    "ax = fig.add_subplot(111)\n",
    "ax.set(xlim=[0, number], ylim=[0,2], title='the MAE',\n",
    "       ylabel='mae', xlabel='num')\n",
    "x = [one for one in range(number)]\n",
    "mae_data = pd.DataFrame(mae)\n",
    "mae_data.rename(columns={0:'mae'},inplace=True)\n",
    "mae_data.to_csv('mae.csv', sep=' ', header=True, index=True)\n",
    "ax.plot(x, mae)\n",
    "plt.savefig('mae1.png', format='png')\n",
    "plt.show()"
   ]
  },
  {
   "cell_type": "code",
   "execution_count": 103,
   "metadata": {},
   "outputs": [],
   "source": [
    "mae = [1,2,3,4,5,6]\n",
    "mae_data = pd.DataFrame(mae)\n",
    "mae_data.rename(columns={0:'mae'},inplace=True)\n",
    "# mae_data\n",
    "mae_data.to_csv('mae.csv', sep=' ', header=True, index=True)"
   ]
  },
  {
   "cell_type": "code",
   "execution_count": 118,
   "metadata": {},
   "outputs": [
    {
     "data": {
      "text/html": [
       "<div>\n",
       "<style scoped>\n",
       "    .dataframe tbody tr th:only-of-type {\n",
       "        vertical-align: middle;\n",
       "    }\n",
       "\n",
       "    .dataframe tbody tr th {\n",
       "        vertical-align: top;\n",
       "    }\n",
       "\n",
       "    .dataframe thead th {\n",
       "        text-align: right;\n",
       "    }\n",
       "</style>\n",
       "<table border=\"1\" class=\"dataframe\">\n",
       "  <thead>\n",
       "    <tr style=\"text-align: right;\">\n",
       "      <th></th>\n",
       "      <th>userId</th>\n",
       "      <th>movieId</th>\n",
       "    </tr>\n",
       "  </thead>\n",
       "  <tbody>\n",
       "    <tr>\n",
       "      <th>77701</th>\n",
       "      <td>483</td>\n",
       "      <td>8529</td>\n",
       "    </tr>\n",
       "    <tr>\n",
       "      <th>94477</th>\n",
       "      <td>599</td>\n",
       "      <td>33437</td>\n",
       "    </tr>\n",
       "    <tr>\n",
       "      <th>36246</th>\n",
       "      <td>247</td>\n",
       "      <td>5349</td>\n",
       "    </tr>\n",
       "    <tr>\n",
       "      <th>17483</th>\n",
       "      <td>111</td>\n",
       "      <td>7361</td>\n",
       "    </tr>\n",
       "    <tr>\n",
       "      <th>100300</th>\n",
       "      <td>610</td>\n",
       "      <td>57504</td>\n",
       "    </tr>\n",
       "  </tbody>\n",
       "</table>\n",
       "</div>"
      ],
      "text/plain": [
       "        userId  movieId\n",
       "77701      483     8529\n",
       "94477      599    33437\n",
       "36246      247     5349\n",
       "17483      111     7361\n",
       "100300     610    57504"
      ]
     },
     "execution_count": 118,
     "metadata": {},
     "output_type": "execute_result"
    }
   ],
   "source": [
    "x,y = data.ix[:,:2],data.ix[:,2]\n",
    "x_train,x_test,y_train,y_test = train_test_split(x,y,test_size=0.2,random_state=0)\n",
    "x_train.head()"
   ]
  },
  {
   "cell_type": "code",
   "execution_count": 119,
   "metadata": {},
   "outputs": [
    {
     "data": {
      "text/plain": [
       "77701     4.0\n",
       "94477     2.5\n",
       "36246     2.0\n",
       "17483     3.5\n",
       "100300    4.5\n",
       "Name: rating, dtype: float64"
      ]
     },
     "execution_count": 119,
     "metadata": {},
     "output_type": "execute_result"
    }
   ],
   "source": [
    "y_train.head()"
   ]
  },
  {
   "cell_type": "code",
   "execution_count": 120,
   "metadata": {},
   "outputs": [
    {
     "data": {
      "text/html": [
       "<div>\n",
       "<style scoped>\n",
       "    .dataframe tbody tr th:only-of-type {\n",
       "        vertical-align: middle;\n",
       "    }\n",
       "\n",
       "    .dataframe tbody tr th {\n",
       "        vertical-align: top;\n",
       "    }\n",
       "\n",
       "    .dataframe thead th {\n",
       "        text-align: right;\n",
       "    }\n",
       "</style>\n",
       "<table border=\"1\" class=\"dataframe\">\n",
       "  <thead>\n",
       "    <tr style=\"text-align: right;\">\n",
       "      <th></th>\n",
       "      <th>userId</th>\n",
       "      <th>movieId</th>\n",
       "      <th>rating</th>\n",
       "    </tr>\n",
       "  </thead>\n",
       "  <tbody>\n",
       "    <tr>\n",
       "      <th>77701</th>\n",
       "      <td>483</td>\n",
       "      <td>8529</td>\n",
       "      <td>4.0</td>\n",
       "    </tr>\n",
       "    <tr>\n",
       "      <th>94477</th>\n",
       "      <td>599</td>\n",
       "      <td>33437</td>\n",
       "      <td>2.5</td>\n",
       "    </tr>\n",
       "    <tr>\n",
       "      <th>36246</th>\n",
       "      <td>247</td>\n",
       "      <td>5349</td>\n",
       "      <td>2.0</td>\n",
       "    </tr>\n",
       "    <tr>\n",
       "      <th>17483</th>\n",
       "      <td>111</td>\n",
       "      <td>7361</td>\n",
       "      <td>3.5</td>\n",
       "    </tr>\n",
       "    <tr>\n",
       "      <th>100300</th>\n",
       "      <td>610</td>\n",
       "      <td>57504</td>\n",
       "      <td>4.5</td>\n",
       "    </tr>\n",
       "  </tbody>\n",
       "</table>\n",
       "</div>"
      ],
      "text/plain": [
       "        userId  movieId  rating\n",
       "77701      483     8529     4.0\n",
       "94477      599    33437     2.5\n",
       "36246      247     5349     2.0\n",
       "17483      111     7361     3.5\n",
       "100300     610    57504     4.5"
      ]
     },
     "execution_count": 120,
     "metadata": {},
     "output_type": "execute_result"
    }
   ],
   "source": [
    "train = x_train.copy(deep=True)\n",
    "train['rating'] = y_train\n",
    "train.head()"
   ]
  },
  {
   "cell_type": "code",
   "execution_count": 12,
   "metadata": {},
   "outputs": [
    {
     "data": {
      "text/html": [
       "<div>\n",
       "<style scoped>\n",
       "    .dataframe tbody tr th:only-of-type {\n",
       "        vertical-align: middle;\n",
       "    }\n",
       "\n",
       "    .dataframe tbody tr th {\n",
       "        vertical-align: top;\n",
       "    }\n",
       "\n",
       "    .dataframe thead th {\n",
       "        text-align: right;\n",
       "    }\n",
       "</style>\n",
       "<table border=\"1\" class=\"dataframe\">\n",
       "  <thead>\n",
       "    <tr style=\"text-align: right;\">\n",
       "      <th></th>\n",
       "      <th>userId</th>\n",
       "      <th>movieId</th>\n",
       "    </tr>\n",
       "  </thead>\n",
       "  <tbody>\n",
       "    <tr>\n",
       "      <th>41008</th>\n",
       "      <td>276</td>\n",
       "      <td>780</td>\n",
       "    </tr>\n",
       "    <tr>\n",
       "      <th>94274</th>\n",
       "      <td>599</td>\n",
       "      <td>7624</td>\n",
       "    </tr>\n",
       "    <tr>\n",
       "      <th>77380</th>\n",
       "      <td>483</td>\n",
       "      <td>1320</td>\n",
       "    </tr>\n",
       "    <tr>\n",
       "      <th>29744</th>\n",
       "      <td>202</td>\n",
       "      <td>3448</td>\n",
       "    </tr>\n",
       "    <tr>\n",
       "      <th>40462</th>\n",
       "      <td>274</td>\n",
       "      <td>60291</td>\n",
       "    </tr>\n",
       "  </tbody>\n",
       "</table>\n",
       "</div>"
      ],
      "text/plain": [
       "       userId  movieId\n",
       "41008     276      780\n",
       "94274     599     7624\n",
       "77380     483     1320\n",
       "29744     202     3448\n",
       "40462     274    60291"
      ]
     },
     "execution_count": 12,
     "metadata": {},
     "output_type": "execute_result"
    }
   ],
   "source": [
    "x_test.head()"
   ]
  },
  {
   "cell_type": "code",
   "execution_count": 10,
   "metadata": {},
   "outputs": [
    {
     "data": {
      "text/plain": [
       "41008    5.0\n",
       "94274    2.5\n",
       "77380    2.5\n",
       "29744    3.0\n",
       "40462    4.0\n",
       "Name: rating, dtype: float64"
      ]
     },
     "execution_count": 10,
     "metadata": {},
     "output_type": "execute_result"
    }
   ],
   "source": [
    "y_test.head()"
   ]
  },
  {
   "cell_type": "code",
   "execution_count": 53,
   "metadata": {},
   "outputs": [
    {
     "name": "stdout",
     "output_type": "stream",
     "text": [
      "(41008, 276, 780)\n"
     ]
    }
   ],
   "source": [
    "for user in x_test.itertuples(index=True):\n",
    "    print(user[0:3])\n",
    "    break"
   ]
  },
  {
   "cell_type": "code",
   "execution_count": 58,
   "metadata": {},
   "outputs": [
    {
     "data": {
      "text/plain": [
       "5.0"
      ]
     },
     "execution_count": 58,
     "metadata": {},
     "output_type": "execute_result"
    }
   ],
   "source": [
    "y_test[41008]"
   ]
  },
  {
   "cell_type": "code",
   "execution_count": null,
   "metadata": {},
   "outputs": [],
   "source": []
  }
 ],
 "metadata": {
  "kernelspec": {
   "display_name": "Python 3",
   "language": "python",
   "name": "python3"
  },
  "language_info": {
   "codemirror_mode": {
    "name": "ipython",
    "version": 3
   },
   "file_extension": ".py",
   "mimetype": "text/x-python",
   "name": "python",
   "nbconvert_exporter": "python",
   "pygments_lexer": "ipython3",
   "version": "3.6.4"
  }
 },
 "nbformat": 4,
 "nbformat_minor": 2
}
