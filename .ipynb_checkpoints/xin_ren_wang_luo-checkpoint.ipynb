{
 "cells": [
  {
   "cell_type": "code",
   "execution_count": 2,
   "metadata": {},
   "outputs": [],
   "source": [
    "import pandas as pd\n",
    "import matplotlib.pyplot as plt\n",
    "import numpy as np"
   ]
  },
  {
   "cell_type": "code",
   "execution_count": 3,
   "metadata": {},
   "outputs": [
    {
     "data": {
      "text/html": [
       "<div>\n",
       "<style scoped>\n",
       "    .dataframe tbody tr th:only-of-type {\n",
       "        vertical-align: middle;\n",
       "    }\n",
       "\n",
       "    .dataframe tbody tr th {\n",
       "        vertical-align: top;\n",
       "    }\n",
       "\n",
       "    .dataframe thead th {\n",
       "        text-align: right;\n",
       "    }\n",
       "</style>\n",
       "<table border=\"1\" class=\"dataframe\">\n",
       "  <thead>\n",
       "    <tr style=\"text-align: right;\">\n",
       "      <th></th>\n",
       "      <th>userId</th>\n",
       "      <th>movieId</th>\n",
       "      <th>rating</th>\n",
       "    </tr>\n",
       "  </thead>\n",
       "  <tbody>\n",
       "    <tr>\n",
       "      <th>0</th>\n",
       "      <td>1</td>\n",
       "      <td>1</td>\n",
       "      <td>4.0</td>\n",
       "    </tr>\n",
       "    <tr>\n",
       "      <th>1</th>\n",
       "      <td>1</td>\n",
       "      <td>3</td>\n",
       "      <td>4.0</td>\n",
       "    </tr>\n",
       "    <tr>\n",
       "      <th>2</th>\n",
       "      <td>1</td>\n",
       "      <td>6</td>\n",
       "      <td>4.0</td>\n",
       "    </tr>\n",
       "    <tr>\n",
       "      <th>3</th>\n",
       "      <td>1</td>\n",
       "      <td>47</td>\n",
       "      <td>5.0</td>\n",
       "    </tr>\n",
       "    <tr>\n",
       "      <th>4</th>\n",
       "      <td>1</td>\n",
       "      <td>50</td>\n",
       "      <td>5.0</td>\n",
       "    </tr>\n",
       "  </tbody>\n",
       "</table>\n",
       "</div>"
      ],
      "text/plain": [
       "   userId  movieId  rating\n",
       "0       1        1     4.0\n",
       "1       1        3     4.0\n",
       "2       1        6     4.0\n",
       "3       1       47     5.0\n",
       "4       1       50     5.0"
      ]
     },
     "execution_count": 3,
     "metadata": {},
     "output_type": "execute_result"
    }
   ],
   "source": [
    "data = pd.read_csv('./movie_lens/ratings.csv')\n",
    "data = data.drop('timestamp',axis=1)\n",
    "data.head()"
   ]
  },
  {
   "cell_type": "code",
   "execution_count": 4,
   "metadata": {},
   "outputs": [
    {
     "name": "stdout",
     "output_type": "stream",
     "text": [
      "<class 'pandas.core.frame.DataFrame'>\n",
      "RangeIndex: 100836 entries, 0 to 100835\n",
      "Data columns (total 3 columns):\n",
      "userId     100836 non-null int64\n",
      "movieId    100836 non-null int64\n",
      "rating     100836 non-null float64\n",
      "dtypes: float64(1), int64(2)\n",
      "memory usage: 2.3 MB\n"
     ]
    }
   ],
   "source": [
    "data.info()"
   ]
  },
  {
   "cell_type": "markdown",
   "metadata": {},
   "source": [
    "#### 接下来的两个数据，仅用来查看数据，不参加操作"
   ]
  },
  {
   "cell_type": "code",
   "execution_count": 3,
   "metadata": {},
   "outputs": [
    {
     "data": {
      "text/plain": [
       "count     610.000000\n",
       "mean      165.304918\n",
       "std       269.480584\n",
       "min        20.000000\n",
       "25%        35.000000\n",
       "50%        70.500000\n",
       "75%       168.000000\n",
       "max      2698.000000\n",
       "Name: movieId, dtype: float64"
      ]
     },
     "execution_count": 3,
     "metadata": {},
     "output_type": "execute_result"
    }
   ],
   "source": [
    "#用户信息\n",
    "user_number = data.groupby('userId')['movieId'].count()\n",
    "user_number.describe()"
   ]
  },
  {
   "cell_type": "code",
   "execution_count": 4,
   "metadata": {},
   "outputs": [
    {
     "data": {
      "text/plain": [
       "count    9724.000000\n",
       "mean       10.369807\n",
       "std        22.401005\n",
       "min         1.000000\n",
       "25%         1.000000\n",
       "50%         3.000000\n",
       "75%         9.000000\n",
       "max       329.000000\n",
       "Name: userId, dtype: float64"
      ]
     },
     "execution_count": 4,
     "metadata": {},
     "output_type": "execute_result"
    }
   ],
   "source": [
    "#影片信息\n",
    "movie_number = data.groupby('movieId')['userId'].count()\n",
    "movie_number.describe()"
   ]
  },
  {
   "cell_type": "markdown",
   "metadata": {},
   "source": [
    "#### 做一个数据集用来后期使用，类型为：\n",
    "``` userId_1 userId_2 movieIds\n",
    "```\n",
    "\n",
    "`抽出所有的共同评分的数据信息`"
   ]
  },
  {
   "cell_type": "code",
   "execution_count": 5,
   "metadata": {},
   "outputs": [],
   "source": [
    "#制作公共影片文件  common.txt\n",
    "\n",
    "\n",
    "#获得公共影片信息\n",
    "#movie_1就是用户j评过分的电影,同理movie_2就是用户i评过分的电影\n",
    "f = open( 'common.txt', 'w', encoding='utf8')\n",
    "f.write('userId_1,userId_2,movieIds\\n')\n",
    "for j in range(21):     #这里的迭代体 5 是用户数，假定用户1为比较用户，用户2为被比较用户，此处显然为用户1的个数\n",
    "    if j ==0 :continue\n",
    "    for i in range(21):    #这里的迭代体 11 是用户2的个数\n",
    "        if i == 0 : continue\n",
    "        if j == i : continue\n",
    "            #获得电影编号\n",
    "        movie_1 = data[data['userId']==j]\n",
    "        movie_2 = data[data['userId']==i]\n",
    "        f.write( str(j) +','+str(i)+',')\n",
    "        for m_id in movie_1['movieId']:                   #遍历用户1的项目，每个都拿去在用户2的项目里检索\n",
    "            judge = movie_2[movie_2['movieId'] == m_id]    #为获得共有电影编号参数 number 做准备\n",
    "            number = judge['movieId']\n",
    "            if judge.empty: pass                          #检查是否有共同项目，无则pass，有则写入文件\n",
    "            else:  \n",
    "                f.write(str(int(number)) + ' ')\n",
    "        f.write('\\n')\n",
    "f.close()"
   ]
  },
  {
   "cell_type": "markdown",
   "metadata": {},
   "source": [
    "#### 导入做好的数据集"
   ]
  },
  {
   "cell_type": "code",
   "execution_count": 12,
   "metadata": {},
   "outputs": [
    {
     "name": "stdout",
     "output_type": "stream",
     "text": [
      "<class 'pandas.core.frame.DataFrame'>\n",
      "RangeIndex: 380 entries, 0 to 379\n",
      "Data columns (total 3 columns):\n",
      "userId_1    380 non-null int64\n",
      "userId_2    380 non-null int64\n",
      "movieIds    348 non-null object\n",
      "dtypes: int64(2), object(1)\n",
      "memory usage: 9.0+ KB\n"
     ]
    }
   ],
   "source": [
    "#读取公共影片信息\n",
    "wangluo = pd.read_table('common.txt',sep=',')\n",
    "wangluo.info()"
   ]
  },
  {
   "cell_type": "code",
   "execution_count": 13,
   "metadata": {},
   "outputs": [
    {
     "name": "stdout",
     "output_type": "stream",
     "text": [
      "<class 'pandas.core.frame.DataFrame'>\n",
      "RangeIndex: 380 entries, 0 to 379\n",
      "Data columns (total 3 columns):\n",
      "userId_1    380 non-null int64\n",
      "userId_2    380 non-null int64\n",
      "movieIds    380 non-null object\n",
      "dtypes: int64(2), object(1)\n",
      "memory usage: 9.0+ KB\n"
     ]
    }
   ],
   "source": [
    "#为后续操作方便，先填充na数据\n",
    "wangluo = wangluo.fillna(0)\n",
    "wangluo.info()"
   ]
  },
  {
   "cell_type": "markdown",
   "metadata": {},
   "source": [
    "#### 获取两个用户的评分\n",
    "主要变量及命名：\n",
    "\n",
    "wangluo:信任网络数据（未加工）\n",
    "\n",
    "index:用户号及共同项目数数据\n",
    "\n",
    "rating:两用户对同项目的评分数据"
   ]
  },
  {
   "cell_type": "code",
   "execution_count": 14,
   "metadata": {},
   "outputs": [
    {
     "data": {
      "text/plain": [
       "380"
      ]
     },
     "execution_count": 14,
     "metadata": {},
     "output_type": "execute_result"
    }
   ],
   "source": [
    "len(wangluo)"
   ]
  },
  {
   "cell_type": "code",
   "execution_count": 15,
   "metadata": {},
   "outputs": [],
   "source": [
    "#注意pandas的索引取值需借用 loc ，且拼接的字符串不可直接遍历，须先进行切分\n",
    "index = []\n",
    "rating = []\n",
    "length = len(wangluo)\n",
    "for num in range(length):\n",
    "    #先取出用户号\n",
    "    userid_1 = int(wangluo.loc[num][0])\n",
    "    userid_2 = int(wangluo.loc[num][1])\n",
    "    #取得此时的项目号（序列）\n",
    "    if wangluo.loc[num][2] == 0:\n",
    "        index.append([userid_1,userid_2,0])\n",
    "        continue\n",
    "    movie_common = wangluo.loc[num][2].split()\n",
    "    #将用户一，用户二，及两用户的共同项目数加入到列表中\n",
    "    index.append([userid_1,userid_2,len(movie_common)])\n",
    "    #对同一项目，分别记录两用户的评分\n",
    "    for movie_id in movie_common:\n",
    "        user_1 = data[data['userId'] == userid_1]\n",
    "        user_2 = data[data['userId'] == userid_2]\n",
    "        rating_1 = int( user_1[user_1['movieId'] == int(movie_id)]['rating'] )\n",
    "        rating_2 = int( user_2[user_2['movieId'] == int(movie_id)]['rating'] )\n",
    "        rating.append([rating_1,rating_2])\n",
    "# print(index)\n",
    "# print(rating)"
   ]
  },
  {
   "cell_type": "code",
   "execution_count": 9,
   "metadata": {},
   "outputs": [
    {
     "data": {
      "text/plain": [
       "2"
      ]
     },
     "execution_count": 9,
     "metadata": {},
     "output_type": "execute_result"
    }
   ],
   "source": [
    "len(movie_common)"
   ]
  },
  {
   "cell_type": "markdown",
   "metadata": {},
   "source": [
    "#### 进行信任值计算"
   ]
  },
  {
   "cell_type": "markdown",
   "metadata": {},
   "source": [
    "计算信任值的数学表示\n",
    "\n",
    "`T = 1 - [ abs(r1 - r2) for r1 in rating1  for r2 in rating2] / (5 * len(movie_common) `"
   ]
  },
  {
   "cell_type": "code",
   "execution_count": 16,
   "metadata": {},
   "outputs": [
    {
     "name": "stdout",
     "output_type": "stream",
     "text": [
      "[[1, 2, 2], [1, 3, 7], [1, 4, 45], [1, 5, 13], [1, 6, 33], [1, 7, 26], [1, 8, 15], [1, 9, 5], [1, 10, 6], [1, 11, 16], [1, 12, 2], [1, 13, 6], [1, 14, 13], [1, 15, 25], [1, 16, 26], [1, 17, 38], [1, 18, 70], [1, 19, 123], [1, 20, 33], [2, 1, 2], [2, 3, 0], [2, 4, 1], [2, 5, 1], [2, 6, 2], [2, 7, 3], [2, 8, 1], [2, 9, 0], [2, 10, 5], [2, 11, 2], [2, 12, 0], [2, 13, 1], [2, 14, 1], [2, 15, 10], [2, 16, 5], [2, 17, 6], [2, 18, 20], [2, 19, 2], [2, 20, 1], [3, 1, 7], [3, 2, 0], [3, 4, 1], [3, 5, 1], [3, 6, 3], [3, 7, 0], [3, 8, 1], [3, 9, 0], [3, 10, 0], [3, 11, 0], [3, 12, 0], [3, 13, 0], [3, 14, 1], [3, 15, 3], [3, 16, 3], [3, 17, 4], [3, 18, 6], [3, 19, 5], [3, 20, 5], [4, 1, 45], [4, 2, 1], [4, 3, 1], [4, 5, 12], [4, 6, 27], [4, 7, 22], [4, 8, 9], [4, 9, 1], [4, 10, 9], [4, 11, 8], [4, 12, 5], [4, 13, 7], [4, 14, 8], [4, 15, 13], [4, 16, 27], [4, 17, 23], [4, 18, 42], [4, 19, 75], [4, 20, 24], [5, 1, 13], [5, 2, 1], [5, 3, 1], [5, 4, 12], [5, 6, 36], [5, 7, 9], [5, 8, 19], [5, 9, 0], [5, 10, 3], [5, 11, 10], [5, 12, 3], [5, 13, 1], [5, 14, 13], [5, 15, 8], [5, 16, 5], [5, 17, 10], [5, 18, 18], [5, 19, 17], [5, 20, 7], [6, 1, 33], [6, 2, 2], [6, 3, 3], [6, 4, 27], [6, 5, 36], [6, 7, 14], [6, 8, 44], [6, 9, 2], [6, 10, 4], [6, 11, 27], [6, 12, 9], [6, 13, 2], [6, 14, 42], [6, 15, 14], [6, 16, 10], [6, 17, 15], [6, 18, 46], [6, 19, 115], [6, 20, 21], [7, 1, 26], [7, 2, 3], [7, 3, 0], [7, 4, 22], [7, 5, 9], [7, 6, 14], [7, 8, 8], [7, 9, 6], [7, 10, 21], [7, 11, 16], [7, 12, 3], [7, 13, 3], [7, 14, 5], [7, 15, 27], [7, 16, 16], [7, 17, 25], [7, 18, 72], [7, 19, 36], [7, 20, 32], [8, 1, 15], [8, 2, 1], [8, 3, 1], [8, 4, 9], [8, 5, 19], [8, 6, 44], [8, 7, 8], [8, 9, 0], [8, 10, 3], [8, 11, 13], [8, 12, 2], [8, 13, 2], [8, 14, 22], [8, 15, 6], [8, 16, 7], [8, 17, 12], [8, 18, 23], [8, 19, 31], [8, 20, 5], [9, 1, 5], [9, 2, 0], [9, 3, 0], [9, 4, 1], [9, 5, 0], [9, 6, 2], [9, 7, 6], [9, 8, 0], [9, 10, 2], [9, 11, 0], [9, 12, 0], [9, 13, 1], [9, 14, 0], [9, 15, 7], [9, 16, 4], [9, 17, 4], [9, 18, 13], [9, 19, 8], [9, 20, 8], [10, 1, 6], [10, 2, 5], [10, 3, 0], [10, 4, 9], [10, 5, 3], [10, 6, 4], [10, 7, 21], [10, 8, 3], [10, 9, 2], [10, 11, 2], [10, 12, 5], [10, 13, 3], [10, 14, 3], [10, 15, 21], [10, 16, 14], [10, 17, 11], [10, 18, 35], [10, 19, 12], [10, 20, 12], [11, 1, 16], [11, 2, 2], [11, 3, 0], [11, 4, 8], [11, 5, 10], [11, 6, 27], [11, 7, 16], [11, 8, 13], [11, 9, 0], [11, 10, 2], [11, 12, 1], [11, 13, 1], [11, 14, 11], [11, 15, 7], [11, 16, 4], [11, 17, 13], [11, 18, 27], [11, 19, 32], [11, 20, 0], [12, 1, 2], [12, 2, 0], [12, 3, 0], [12, 4, 5], [12, 5, 3], [12, 6, 9], [12, 7, 3], [12, 8, 2], [12, 9, 0], [12, 10, 5], [12, 11, 1], [12, 13, 1], [12, 14, 1], [12, 15, 3], [12, 16, 0], [12, 17, 2], [12, 18, 2], [12, 19, 13], [12, 20, 3], [13, 1, 6], [13, 2, 1], [13, 3, 0], [13, 4, 7], [13, 5, 1], [13, 6, 2], [13, 7, 3], [13, 8, 2], [13, 9, 1], [13, 10, 3], [13, 11, 1], [13, 12, 1], [13, 14, 2], [13, 15, 5], [13, 16, 4], [13, 17, 3], [13, 18, 7], [13, 19, 14], [13, 20, 8], [14, 1, 13], [14, 2, 1], [14, 3, 1], [14, 4, 8], [14, 5, 13], [14, 6, 42], [14, 7, 5], [14, 8, 22], [14, 9, 0], [14, 10, 3], [14, 11, 11], [14, 12, 1], [14, 13, 2], [14, 15, 5], [14, 16, 6], [14, 17, 11], [14, 18, 19], [14, 19, 20], [14, 20, 1], [15, 1, 25], [15, 2, 10], [15, 3, 3], [15, 4, 13], [15, 5, 8], [15, 6, 14], [15, 7, 27], [15, 8, 6], [15, 9, 7], [15, 10, 21], [15, 11, 7], [15, 12, 3], [15, 13, 5], [15, 14, 5], [15, 16, 28], [15, 17, 33], [15, 18, 79], [15, 19, 39], [15, 20, 24], [16, 1, 26], [16, 2, 5], [16, 3, 3], [16, 4, 27], [16, 5, 5], [16, 6, 10], [16, 7, 16], [16, 8, 7], [16, 9, 4], [16, 10, 14], [16, 11, 4], [16, 12, 0], [16, 13, 4], [16, 14, 6], [16, 15, 28], [16, 17, 45], [16, 18, 60], [16, 19, 30], [16, 20, 5], [17, 1, 38], [17, 2, 6], [17, 3, 4], [17, 4, 23], [17, 5, 10], [17, 6, 15], [17, 7, 25], [17, 8, 12], [17, 9, 4], [17, 10, 11], [17, 11, 13], [17, 12, 2], [17, 13, 3], [17, 14, 11], [17, 15, 33], [17, 16, 45], [17, 18, 65], [17, 19, 38], [17, 20, 7], [18, 1, 70], [18, 2, 20], [18, 3, 6], [18, 4, 42], [18, 5, 18], [18, 6, 46], [18, 7, 72], [18, 8, 23], [18, 9, 13], [18, 10, 35], [18, 11, 27], [18, 12, 2], [18, 13, 7], [18, 14, 19], [18, 15, 79], [18, 16, 60], [18, 17, 65], [18, 19, 101], [18, 20, 31], [19, 1, 123], [19, 2, 2], [19, 3, 5], [19, 4, 75], [19, 5, 17], [19, 6, 115], [19, 7, 36], [19, 8, 31], [19, 9, 8], [19, 10, 12], [19, 11, 32], [19, 12, 13], [19, 13, 14], [19, 14, 20], [19, 15, 39], [19, 16, 30], [19, 17, 38], [19, 18, 101], [19, 20, 76], [20, 1, 33], [20, 2, 1], [20, 3, 5], [20, 4, 24], [20, 5, 7], [20, 6, 21], [20, 7, 32], [20, 8, 5], [20, 9, 8], [20, 10, 12], [20, 11, 0], [20, 12, 3], [20, 13, 8], [20, 14, 1], [20, 15, 24], [20, 16, 5], [20, 17, 7], [20, 18, 31], [20, 19, 76]]\n",
      "\n",
      "计算得到的信任值为：\n",
      "\n",
      "[0.8, 0.4286, 0.7689, 0.8462, 0.7576, 0.7615, 0.84, 0.96, 0.4, 0.825, 0.8, 0.9333, 0.8, 0.816, 0.7077, 0.8684, 0.8143, 0.7398, 0.8, 0.8, 0, 0.4, 0.8, 0.6667, 0.4, 0, 0.68, 0.6, 0, 1.0, 0.76, 0.76, 0.8667, 0.87, 0.8, 0.6, 0.4571, 0, 0.6, 0.3333, 0, 0.4, 0, 0, 0, 0, 0, 0.2, 0.25, 0.3, 0.56, 0.6889, 1.0, 0.6333, 0.6963, 0.7818, 0.7556, 0.8, 0.7333, 0.775, 0.52, 0.7714, 0.7, 0.6308, 0.7407, 0.7391, 0.7857, 0.736, 0.75, 0.8, 1.0, 0.8333, 0.7278, 0.8667, 0.8421, 0, 0.7333, 0.74, 0.7333, 1.0, 0.8154, 0.775, 0.68, 0.78, 0.8333, 0.8235, 0.8857, 0.7939, 0.7, 0.8667, 0.6889, 0.7444, 0.8571, 0.7727, 0.5, 0.8, 0.8519, 0.8444, 0.9, 0.8286, 0.8429, 0.74, 0.7333, 0.7696, 0.7635, 0.7524, 0.8231, 0.7333, 0, 0.7364, 0.7333, 0.8429, 0.725, 0.7667, 0.7048, 0.775, 0.8, 0.88, 0.763, 0.8, 0.8, 0.8306, 0.7944, 0.7125, 0.8, 1.0, 0.8444, 0.7158, 0.7818, 0.75, 0, 0.6, 0.8154, 0.9, 0.8, 0.8, 0.7429, 0.8333, 0.8261, 0.8, 0.84, 0, 0, 0.8, 0, 0.7, 0.7667, 0, 1.0, 0, 0, 1.0, 0, 0.8857, 0.95, 0.8308, 0.825, 0.6667, 0.96, 0, 0.8222, 0.8667, 0.85, 0.6571, 0.9333, 0.8, 0.4, 0.9333, 0.7333, 0.6857, 0.6364, 0.64, 0.75, 0.7625, 0.9, 0, 0.825, 0.64, 0.7111, 0.7875, 0.8154, 0, 0.8, 1.0, 0.8727, 0.9143, 0.8, 0.8615, 0.7407, 0.8313, 0, 0.9, 0, 0, 0.72, 0.8667, 0.8444, 0.8, 0.8, 0, 0.84, 0.4, 1.0, 0.8667, 0, 0.9, 0.6923, 0.8, 0.7, 1.0, 0, 0.8857, 0.8, 0.8, 0.8667, 0.8, 0.8, 0.8, 0.6, 0.8, 0.84, 0.85, 0.7333, 0.7429, 0.7571, 0.675, 0.7692, 0.8, 0.85, 0.7692, 0.7762, 0.6, 0.8, 0, 0.9333, 0.7273, 0.6, 0.9, 0.84, 0.9, 0.8182, 0.7895, 0.83, 0.8, 0.792, 0.84, 1.0, 0.7846, 0.775, 0.8286, 0.7111, 0.8, 0.7429, 0.7143, 0.8286, 0.8667, 0.8, 0.7429, 0.7273, 0.8025, 0.8359, 0.75, 0.7846, 0.6, 0.9333, 0.6741, 0.72, 0.78, 0.675, 0.6571, 0.7, 0.7143, 0.65, 0, 0.8, 0.7714, 0.7422, 0.7967, 0.8667, 0.8, 0.9, 0.8, 0.9, 0.8, 0.9, 0.8533, 0.736, 0.85, 0.7, 0.8364, 0.8, 0.8, 0.9333, 0.8727, 0.7758, 0.8133, 0.8092, 0.9053, 0.9143, 0.84, 0.85, 0.9, 0.7857, 0.8444, 0.7348, 0.7806, 0.7913, 0.8154, 0.84, 0.837, 0.8, 0.7714, 0.7789, 0.8253, 0.82, 0.8615, 0.903, 0.8774, 0.8033, 0.8, 0.76, 0.7093, 0.8, 0.7652, 0.7556, 0.7355, 0.75, 0.75, 0.7562, 0.8154, 0.8429, 0.69, 0.7128, 0.7867, 0.7421, 0.8178, 0.8632, 0.8, 0.8, 0.96, 0.7417, 0.8, 0.8095, 0.7312, 0.72, 0.8, 0.8333, 0, 0.9333, 0.775, 0.6, 0.7083, 0.88, 0.9143, 0.8129, 0.7763]\n"
     ]
    }
   ],
   "source": [
    "#本函数不做输出，但生成文件：xinren.txt \n",
    "def xinren(index,rating):\n",
    "        \n",
    "    '''\n",
    "        index:为用户Id与共同项目数目的列表，形如 [1, 2, 2]\n",
    "        rating:为两用户对同一项目的评分数据列表\n",
    "    '''    \n",
    "        \n",
    "        \n",
    "        \n",
    "    i = 0 #用来存放共同项目个数\n",
    "    j = 0 #用来做遍历评分列表的下标标签\n",
    "    r = 0 #记录两用户评分的差的绝对值的累加和\n",
    "\n",
    "    T = []     #信任值列表\n",
    "    f = open( 'xinren.txt', 'w', encoding='utf8')\n",
    "    f.write('user_1,user_2,credit\\n')\n",
    "    for mata in index:\n",
    "        if mata[2] == 0: \n",
    "            T.append(0)\n",
    "            continue\n",
    "        if i == mata[2]:\n",
    "            i = 0\n",
    "            continue\n",
    "        i = mata[2]\n",
    "        for time in range(i):\n",
    "    #         print(rating[j])\n",
    "            r += abs( rating[j][0] - rating[j][1])\n",
    "            j += 1\n",
    "        credit = round( 1 - r / (5 * i) , 4 )\n",
    "        f.write(str(mata[0]) + ',' + str(mata[1]) + ',' + str(credit) + '\\n')\n",
    "        T.append( credit )\n",
    "        r = 0\n",
    "    #     print(\"one rand\")\n",
    "    f.close()\n",
    "# print(index)\n",
    "# print('\\n计算得到的信任值为：\\n')\n",
    "# print(T)\n",
    "\n",
    "xinren(index,rating)"
   ]
  },
  {
   "cell_type": "code",
   "execution_count": null,
   "metadata": {},
   "outputs": [],
   "source": []
  },
  {
   "cell_type": "code",
   "execution_count": null,
   "metadata": {},
   "outputs": [],
   "source": []
  }
 ],
 "metadata": {
  "kernelspec": {
   "display_name": "Python 3",
   "language": "python",
   "name": "python3"
  },
  "language_info": {
   "codemirror_mode": {
    "name": "ipython",
    "version": 3
   },
   "file_extension": ".py",
   "mimetype": "text/x-python",
   "name": "python",
   "nbconvert_exporter": "python",
   "pygments_lexer": "ipython3",
   "version": "3.6.4"
  }
 },
 "nbformat": 4,
 "nbformat_minor": 2
}
